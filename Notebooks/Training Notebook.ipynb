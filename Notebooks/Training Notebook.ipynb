{
 "cells": [
  {
   "cell_type": "code",
   "execution_count": 1,
   "id": "4cfb807f",
   "metadata": {},
   "outputs": [],
   "source": [
    "import glob\n",
    "\n",
    "import numpy as np\n",
    "import pandas as pd\n",
    "from scipy import signal\n",
    "\n",
    "import librosa\n",
    "import librosa.display as DSP\n",
    "import librosa as lr\n",
    "from tempfile import mktemp\n",
    "import imagehash\n",
    "from PIL import Image\n",
    "\n",
    "import pylab\n",
    "\n",
    "from sklearn.model_selection import train_test_split\n",
    "from sklearn.preprocessing import MinMaxScaler\n",
    "\n",
    "from sklearn.pipeline import make_pipeline\n",
    "from sklearn.preprocessing import StandardScaler\n",
    "from sklearn.svm import SVC\n",
    "from sklearn.ensemble import RandomForestClassifier"
   ]
  },
  {
   "cell_type": "markdown",
   "id": "77c8927c",
   "metadata": {},
   "source": [
    "## Extract Features From Wav"
   ]
  },
  {
   "cell_type": "code",
   "execution_count": 2,
   "id": "f723508d",
   "metadata": {},
   "outputs": [],
   "source": [
    "class Song(object):\n",
    "    def __init__(self, wavdata, samplingFrequency):\n",
    "        self.wavdata,self.samplingFrequency = wavdata, samplingFrequency\n",
    "        \n",
    "        y_harmonic, y_percussive = librosa.effects.hpss(wavdata)\n",
    "        self.y_harmonic, self.y_percussive = y_harmonic, y_percussive\n",
    "        \n",
    "        self.spectrogram = self.getSpectrogram()\n",
    "        \n",
    "        # Harmonic\n",
    "        self.harmonic = np.mean(y_harmonic)\n",
    "        self.harmonic_var = np.var(y_harmonic)\n",
    "        \n",
    "        # Precussive\n",
    "        self.percussive = np.mean(y_percussive)\n",
    "        self.percussive_var = np.var(y_percussive)\n",
    "        \n",
    "        # Pitches\n",
    "        pitches, magnitudes = librosa.core.piptrack(y = wavdata , sr = samplingFrequency)\n",
    "        self.max_pitch = np.max(pitches)\n",
    "        self.avg_pitch = np.mean(pitches)\n",
    "        self.var_pitch = np.var(pitches)\n",
    "        \n",
    "        # LPC Calculations\n",
    "        spectral_lpc = librosa.lpc(wavdata, order=2)\n",
    "        self.max_lpc = np.max(spectral_lpc)\n",
    "        self.avg_lpc = np.mean(spectral_lpc)\n",
    "        self.var_lpc = np.var(spectral_lpc)\n",
    "        \n",
    "        # Chroma\n",
    "        chroma=lr.feature.chroma_cens(y=y_harmonic, sr=samplingFrequency)\n",
    "        self.chromaAvg = np.mean(chroma)\n",
    "        self.chromaVar = np.var(chroma)\n",
    "        \n",
    "        chroma_stft =lr.feature.chroma_stft(y=y_harmonic, sr=samplingFrequency)\n",
    "        self.chroma_stft_mean = np.mean(chroma_stft)\n",
    "        self.chroma_stft_var = np.var(chroma_stft)\n",
    "\n",
    "        chroma_cqt =lr.feature.chroma_cqt(y=y_harmonic, sr=samplingFrequency)\n",
    "        self.chroma_cqt_mean = np.mean(chroma_cqt)\n",
    "        self.chroma_cqt_var = np.var(chroma_cqt)\n",
    "        \n",
    "        # MFCC\n",
    "        mfccs = lr.feature.mfcc(y=y_harmonic, sr=samplingFrequency)\n",
    "        self.Mfccs = np.mean(mfccs)\n",
    "        self.Mfccs_var = np.var(mfccs)\n",
    "        \n",
    "        delta = lr.feature.delta(mfccs)\n",
    "        self.mfcc_delta_mean = np.mean(delta)\n",
    "        self.mfcc_delta_var = np.var(delta)\n",
    "        \n",
    "        # Contrast\n",
    "        contrast=lr.feature.spectral_contrast(y=y_harmonic,sr=samplingFrequency)\n",
    "        self.Contrast = np.mean(contrast)\n",
    "        self.Contrast_var = np.var(contrast)\n",
    "        \n",
    "        # Rolloff\n",
    "        rolloff = lr.feature.spectral_rolloff(y=wavdata, sr=samplingFrequency)\n",
    "        self.Rolloff = np.mean(rolloff)\n",
    "        self.Rolloff_var = np.var(rolloff)\n",
    "\n",
    "        # Z-rate\n",
    "        zrate=lr.feature.zero_crossing_rate(y_harmonic)\n",
    "        self.Zrate = np.mean(zrate)\n",
    "        self.Zrate_var = np.var(zrate)\n",
    "\n",
    "        # Centroid\n",
    "        cent = lr.feature.spectral_centroid(y=wavdata, sr=samplingFrequency)\n",
    "        self.Cent = np.mean(cent)\n",
    "        self.Cent_var = np.var(cent)\n",
    "\n",
    "        tonnetz = lr.feature.tonnetz(y=wavdata, sr=samplingFrequency)\n",
    "        self.tonnetz_mean = np.mean(tonnetz)\n",
    "        self.tonnetz_var = np.var(tonnetz)\n",
    "        \n",
    "        # Poly\n",
    "        poly_features = lr.feature.poly_features(S=self.spectrogram, sr=samplingFrequency)\n",
    "        self.poly_features_mean = np.mean(poly_features)\n",
    "        self.poly_features_var = np.var(poly_features)\n",
    "        \n",
    "        # Bandwidth\n",
    "        spec_bw = lr.feature.spectral_bandwidth(y=wavdata, sr=samplingFrequency)\n",
    "        self.spec_bw_mean = np.mean(spec_bw)\n",
    "        self.spec_bw_var = np.var(spec_bw)\n",
    "        \n",
    "        # RMSE\n",
    "        rmse = lr.feature.rms(y=wavdata)\n",
    "        self.rmse_mean = np.mean(rmse)\n",
    "        self.rmse_var = np.var(rmse)\n",
    "        \n",
    "        # Melspectogram\n",
    "        melspectrogram = lr.feature.melspectrogram(y=wavdata, sr=samplingFrequency)\n",
    "        self.melspec_mean = np.mean(melspectrogram)\n",
    "        self.melspec_var = np.var(melspectrogram)\n",
    "\n",
    "        \n",
    "    # Features with Hashing\n",
    "    def getSpectrogram(self):\n",
    "        f, t, Sxx = signal.spectrogram(self.wavdata, 44100)\n",
    "#         return np.abs(librosa.stft(self.wavdata))\n",
    "        return Sxx\n",
    "\n",
    "    def getHashedSpectrogram(self):\n",
    "        outputFile = mktemp('.png')  # use temporary file\n",
    "        pylab.axis('off')  # no axis\n",
    "        pylab.axes([0., 0., 1., 1.], frameon=False, xticks=[], yticks=[])  # Remove the white edge\n",
    "        librosa.display.specshow(librosa.amplitude_to_db(self.spectrogram, ref=np.max), y_axis='linear')\n",
    "        pylab.savefig(outputFile, bbox_inches=None, pad_inches=0)\n",
    "        pylab.close()\n",
    "        return int(str(imagehash.phash(Image.open(outputFile))), 16)\n",
    "\n",
    "    def getFeature_centroid(self):\n",
    "        outputFile = mktemp('.png')  # use temporary file\n",
    "        pylab.axis('off')  # no axis\n",
    "        pylab.axes([0., 0., 1., 1.], frameon=False, xticks=[], yticks=[])  # Remove the white edge\n",
    "        spectral_centroids = librosa.feature.spectral_centroid(S = self.spectrogram, sr = self.samplingFrequency)\n",
    "        DSP.specshow(spectral_centroids)\n",
    "        pylab.savefig(outputFile, bbox_inches=None, pad_inches=0)\n",
    "        pylab.close()\n",
    "        return int(str(imagehash.phash(Image.open(outputFile))), 16)\n",
    "\n",
    "    def getFeature_rolloff(self):\n",
    "        outputFile = mktemp('.png')  # use temporary file\n",
    "        pylab.axis('off')  # no axis\n",
    "        pylab.axes([0., 0., 1., 1.], frameon=False, xticks=[], yticks=[])  # Remove the white edge\n",
    "        spectral_rolloffs = librosa.feature.spectral_rolloff(S = self.spectrogram, sr = self.samplingFrequency)\n",
    "        librosa.display.specshow(spectral_rolloffs)\n",
    "        pylab.savefig(outputFile, bbox_inches=None, pad_inches=0)\n",
    "        pylab.close()\n",
    "        return int(str(imagehash.phash(Image.open(outputFile))), 16)\n",
    "\n",
    "    def getFeature_chroma(self):\n",
    "        outputFile = mktemp('.png')  # use temporary file\n",
    "        pylab.axis('off')  # no axis\n",
    "        pylab.axes([0., 0., 1., 1.], frameon=False, xticks=[], yticks=[])  # Remove the white edge\n",
    "        spectral_chroma = librosa.feature.chroma_stft(y=self.y_harmonic, sr = self.samplingFrequency)\n",
    "        librosa.display.specshow(spectral_chroma)\n",
    "        pylab.savefig(outputFile, bbox_inches=None, pad_inches=0)\n",
    "        pylab.close()\n",
    "        return int(str(imagehash.phash(Image.open(outputFile))), 16)\n",
    "    \n",
    "    def getFeature_chroma_cqt(self):\n",
    "        outputFile = mktemp('.png')  # use temporary file\n",
    "        pylab.axis('off')  # no axis\n",
    "        pylab.axes([0., 0., 1., 1.], frameon=False, xticks=[], yticks=[])  # Remove the white edge\n",
    "        spectral_chroma_cqt = librosa.feature.chroma_cqt(y=self.y_harmonic, sr=self.samplingFrequency)\n",
    "        librosa.display.specshow(spectral_chroma_cqt)\n",
    "        pylab.savefig(outputFile, bbox_inches=None, pad_inches=0)\n",
    "        pylab.close()\n",
    "        return int(str(imagehash.phash(Image.open(outputFile))), 16)\n",
    "    \n",
    "    def getFeature_mfcc(self):\n",
    "        outputFile = mktemp('.png')  # use temporary file\n",
    "        pylab.axis('off')  # no axis\n",
    "        pylab.axes([0., 0., 1., 1.], frameon=False, xticks=[], yticks=[])  # Remove the white edge\n",
    "        spectral_mfcc = librosa.feature.mfcc(y = self.y_harmonic, sr = self.samplingFrequency)\n",
    "        librosa.display.specshow(spectral_mfcc)\n",
    "        pylab.savefig(outputFile, bbox_inches=None, pad_inches=0)\n",
    "        pylab.close()\n",
    "        return int(str(imagehash.phash(Image.open(outputFile))), 16)\n",
    "    \n",
    "    def getFeature_mels_spectorgram(self):\n",
    "        outputFile = mktemp('.png')  # use temporary file\n",
    "        pylab.axis('off')  # no axis\n",
    "        pylab.axes([0., 0., 1., 1.], frameon=False, xticks=[], yticks=[])  # Remove the white edge\n",
    "        spectral_melspectrogram = librosa.feature.melspectrogram(S = self.spectrogram, sr = self.samplingFrequency)\n",
    "        librosa.display.specshow(spectral_melspectrogram)\n",
    "        pylab.savefig(outputFile, bbox_inches=None, pad_inches=0)\n",
    "        pylab.close()\n",
    "        return int(str(imagehash.phash(Image.open(outputFile))), 16)\n",
    "    "
   ]
  },
  {
   "cell_type": "markdown",
   "id": "f9cd3c5b",
   "metadata": {},
   "source": [
    "## Data Pre-processing"
   ]
  },
  {
   "cell_type": "code",
   "execution_count": 3,
   "id": "8b58a814",
   "metadata": {},
   "outputs": [
    {
     "name": "stderr",
     "output_type": "stream",
     "text": [
      "D:\\Others\\Any Setup\\Anaconda\\lib\\site-packages\\librosa\\util\\decorators.py:88: UserWarning: n_fft=1024 is too small for input signal of length=938\n",
      "  return f(*args, **kwargs)\n",
      "D:\\Others\\Any Setup\\Anaconda\\lib\\site-packages\\librosa\\util\\decorators.py:88: UserWarning: Empty filters detected in mel frequency basis. Some channels will produce empty responses. Try increasing your sampling rate (and fmax) or reducing n_mels.\n",
      "  return f(*args, **kwargs)\n",
      "D:\\Others\\Any Setup\\Anaconda\\lib\\site-packages\\librosa\\util\\decorators.py:88: UserWarning: n_fft=1024 is too small for input signal of length=855\n",
      "  return f(*args, **kwargs)\n",
      "D:\\Others\\Any Setup\\Anaconda\\lib\\site-packages\\librosa\\util\\decorators.py:88: UserWarning: n_fft=1024 is too small for input signal of length=910\n",
      "  return f(*args, **kwargs)\n",
      "D:\\Others\\Any Setup\\Anaconda\\lib\\site-packages\\librosa\\util\\decorators.py:88: UserWarning: n_fft=1024 is too small for input signal of length=993\n",
      "  return f(*args, **kwargs)\n",
      "D:\\Others\\Any Setup\\Anaconda\\lib\\site-packages\\librosa\\util\\decorators.py:88: UserWarning: n_fft=1024 is too small for input signal of length=1020\n",
      "  return f(*args, **kwargs)\n",
      "D:\\Others\\Any Setup\\Anaconda\\lib\\site-packages\\librosa\\util\\decorators.py:88: UserWarning: n_fft=1024 is too small for input signal of length=882\n",
      "  return f(*args, **kwargs)\n",
      "D:\\Others\\Any Setup\\Anaconda\\lib\\site-packages\\librosa\\util\\decorators.py:88: UserWarning: n_fft=1024 is too small for input signal of length=772\n",
      "  return f(*args, **kwargs)\n",
      "D:\\Others\\Any Setup\\Anaconda\\lib\\site-packages\\librosa\\util\\decorators.py:88: UserWarning: n_fft=1024 is too small for input signal of length=607\n",
      "  return f(*args, **kwargs)\n",
      "D:\\Others\\Any Setup\\Anaconda\\lib\\site-packages\\librosa\\util\\decorators.py:88: UserWarning: n_fft=1024 is too small for input signal of length=497\n",
      "  return f(*args, **kwargs)\n",
      "D:\\Others\\Any Setup\\Anaconda\\lib\\site-packages\\librosa\\util\\decorators.py:88: UserWarning: n_fft=1024 is too small for input signal of length=552\n",
      "  return f(*args, **kwargs)\n",
      "D:\\Others\\Any Setup\\Anaconda\\lib\\site-packages\\librosa\\util\\decorators.py:88: UserWarning: n_fft=1024 is too small for input signal of length=634\n",
      "  return f(*args, **kwargs)\n",
      "D:\\Others\\Any Setup\\Anaconda\\lib\\site-packages\\librosa\\util\\decorators.py:88: UserWarning: n_fft=1024 is too small for input signal of length=579\n",
      "  return f(*args, **kwargs)\n",
      "D:\\Others\\Any Setup\\Anaconda\\lib\\site-packages\\librosa\\util\\decorators.py:88: UserWarning: n_fft=1024 is too small for input signal of length=469\n",
      "  return f(*args, **kwargs)\n",
      "D:\\Others\\Any Setup\\Anaconda\\lib\\site-packages\\librosa\\util\\decorators.py:88: UserWarning: n_fft=1024 is too small for input signal of length=524\n",
      "  return f(*args, **kwargs)\n",
      "D:\\Others\\Any Setup\\Anaconda\\lib\\site-packages\\librosa\\util\\decorators.py:88: UserWarning: n_fft=1024 is too small for input signal of length=662\n",
      "  return f(*args, **kwargs)\n",
      "D:\\Others\\Any Setup\\Anaconda\\lib\\site-packages\\librosa\\util\\decorators.py:88: UserWarning: n_fft=1024 is too small for input signal of length=922\n",
      "  return f(*args, **kwargs)\n",
      "D:\\Others\\Any Setup\\Anaconda\\lib\\site-packages\\librosa\\util\\decorators.py:88: UserWarning: n_fft=1024 is too small for input signal of length=461\n",
      "  return f(*args, **kwargs)\n",
      "D:\\Others\\Any Setup\\Anaconda\\lib\\site-packages\\librosa\\util\\decorators.py:88: UserWarning: n_fft=1024 is too small for input signal of length=522\n",
      "  return f(*args, **kwargs)\n",
      "D:\\Others\\Any Setup\\Anaconda\\lib\\site-packages\\librosa\\util\\decorators.py:88: UserWarning: n_fft=1024 is too small for input signal of length=648\n",
      "  return f(*args, **kwargs)\n",
      "D:\\Others\\Any Setup\\Anaconda\\lib\\site-packages\\librosa\\util\\decorators.py:88: UserWarning: n_fft=1024 is too small for input signal of length=567\n",
      "  return f(*args, **kwargs)\n",
      "D:\\Others\\Any Setup\\Anaconda\\lib\\site-packages\\librosa\\util\\decorators.py:88: UserWarning: n_fft=1024 is too small for input signal of length=613\n",
      "  return f(*args, **kwargs)\n",
      "D:\\Others\\Any Setup\\Anaconda\\lib\\site-packages\\librosa\\util\\decorators.py:88: UserWarning: n_fft=1024 is too small for input signal of length=532\n",
      "  return f(*args, **kwargs)\n",
      "D:\\Others\\Any Setup\\Anaconda\\lib\\site-packages\\librosa\\util\\decorators.py:88: UserWarning: n_fft=1024 is too small for input signal of length=1013\n",
      "  return f(*args, **kwargs)\n",
      "D:\\Others\\Any Setup\\Anaconda\\lib\\site-packages\\librosa\\util\\decorators.py:88: UserWarning: n_fft=1024 is too small for input signal of length=507\n",
      "  return f(*args, **kwargs)\n",
      "D:\\Others\\Any Setup\\Anaconda\\lib\\site-packages\\librosa\\util\\decorators.py:88: UserWarning: n_fft=1024 is too small for input signal of length=572\n",
      "  return f(*args, **kwargs)\n",
      "D:\\Others\\Any Setup\\Anaconda\\lib\\site-packages\\librosa\\util\\decorators.py:88: UserWarning: n_fft=1024 is too small for input signal of length=537\n",
      "  return f(*args, **kwargs)\n",
      "D:\\Others\\Any Setup\\Anaconda\\lib\\site-packages\\librosa\\util\\decorators.py:88: UserWarning: n_fft=1024 is too small for input signal of length=972\n",
      "  return f(*args, **kwargs)\n",
      "D:\\Others\\Any Setup\\Anaconda\\lib\\site-packages\\librosa\\util\\decorators.py:88: UserWarning: n_fft=1024 is too small for input signal of length=486\n",
      "  return f(*args, **kwargs)\n",
      "D:\\Others\\Any Setup\\Anaconda\\lib\\site-packages\\librosa\\util\\decorators.py:88: UserWarning: n_fft=1024 is too small for input signal of length=517\n",
      "  return f(*args, **kwargs)\n",
      "D:\\Others\\Any Setup\\Anaconda\\lib\\site-packages\\librosa\\util\\decorators.py:88: UserWarning: n_fft=1024 is too small for input signal of length=699\n",
      "  return f(*args, **kwargs)\n",
      "D:\\Others\\Any Setup\\Anaconda\\lib\\site-packages\\librosa\\util\\decorators.py:88: UserWarning: n_fft=1024 is too small for input signal of length=663\n",
      "  return f(*args, **kwargs)\n",
      "D:\\Others\\Any Setup\\Anaconda\\lib\\site-packages\\librosa\\util\\decorators.py:88: UserWarning: n_fft=1024 is too small for input signal of length=608\n",
      "  return f(*args, **kwargs)\n",
      "D:\\Others\\Any Setup\\Anaconda\\lib\\site-packages\\librosa\\util\\decorators.py:88: UserWarning: n_fft=1024 is too small for input signal of length=690\n",
      "  return f(*args, **kwargs)\n",
      "D:\\Others\\Any Setup\\Anaconda\\lib\\site-packages\\librosa\\util\\decorators.py:88: UserWarning: n_fft=1024 is too small for input signal of length=800\n",
      "  return f(*args, **kwargs)\n",
      "D:\\Others\\Any Setup\\Anaconda\\lib\\site-packages\\librosa\\util\\decorators.py:88: UserWarning: n_fft=1024 is too small for input signal of length=827\n",
      "  return f(*args, **kwargs)\n",
      "D:\\Others\\Any Setup\\Anaconda\\lib\\site-packages\\librosa\\util\\decorators.py:88: UserWarning: n_fft=1024 is too small for input signal of length=745\n",
      "  return f(*args, **kwargs)\n",
      "D:\\Others\\Any Setup\\Anaconda\\lib\\site-packages\\librosa\\util\\decorators.py:88: UserWarning: n_fft=1024 is too small for input signal of length=717\n",
      "  return f(*args, **kwargs)\n",
      "D:\\Others\\Any Setup\\Anaconda\\lib\\site-packages\\librosa\\util\\decorators.py:88: UserWarning: PySoundFile failed. Trying audioread instead.\n",
      "  return f(*args, **kwargs)\n",
      "D:\\Others\\Any Setup\\Anaconda\\lib\\site-packages\\librosa\\util\\decorators.py:88: UserWarning: n_fft=1024 is too small for input signal of length=441\n",
      "  return f(*args, **kwargs)\n",
      "D:\\Others\\Any Setup\\Anaconda\\lib\\site-packages\\librosa\\util\\decorators.py:88: UserWarning: n_fft=1024 is too small for input signal of length=965\n",
      "  return f(*args, **kwargs)\n",
      "D:\\Others\\Any Setup\\Anaconda\\lib\\site-packages\\librosa\\util\\decorators.py:88: UserWarning: n_fft=1024 is too small for input signal of length=673\n",
      "  return f(*args, **kwargs)\n",
      "D:\\Others\\Any Setup\\Anaconda\\lib\\site-packages\\librosa\\util\\decorators.py:88: UserWarning: n_fft=1024 is too small for input signal of length=714\n",
      "  return f(*args, **kwargs)\n",
      "D:\\Others\\Any Setup\\Anaconda\\lib\\site-packages\\librosa\\util\\decorators.py:88: UserWarning: n_fft=1024 is too small for input signal of length=547\n",
      "  return f(*args, **kwargs)\n",
      "D:\\Others\\Any Setup\\Anaconda\\lib\\site-packages\\librosa\\util\\decorators.py:88: UserWarning: n_fft=1024 is too small for input signal of length=633\n",
      "  return f(*args, **kwargs)\n",
      "D:\\Others\\Any Setup\\Anaconda\\lib\\site-packages\\librosa\\util\\decorators.py:88: UserWarning: n_fft=1024 is too small for input signal of length=628\n",
      "  return f(*args, **kwargs)\n",
      "D:\\Others\\Any Setup\\Anaconda\\lib\\site-packages\\librosa\\util\\decorators.py:88: UserWarning: n_fft=1024 is too small for input signal of length=542\n",
      "  return f(*args, **kwargs)\n"
     ]
    },
    {
     "name": "stderr",
     "output_type": "stream",
     "text": [
      "D:\\Others\\Any Setup\\Anaconda\\lib\\site-packages\\librosa\\util\\decorators.py:88: UserWarning: n_fft=1024 is too small for input signal of length=600\n",
      "  return f(*args, **kwargs)\n",
      "D:\\Others\\Any Setup\\Anaconda\\lib\\site-packages\\librosa\\util\\decorators.py:88: UserWarning: n_fft=1024 is too small for input signal of length=638\n",
      "  return f(*args, **kwargs)\n",
      "D:\\Others\\Any Setup\\Anaconda\\lib\\site-packages\\librosa\\util\\decorators.py:88: UserWarning: n_fft=1024 is too small for input signal of length=824\n",
      "  return f(*args, **kwargs)\n",
      "D:\\Others\\Any Setup\\Anaconda\\lib\\site-packages\\librosa\\util\\decorators.py:88: UserWarning: n_fft=1024 is too small for input signal of length=765\n",
      "  return f(*args, **kwargs)\n",
      "D:\\Others\\Any Setup\\Anaconda\\lib\\site-packages\\librosa\\util\\decorators.py:88: UserWarning: n_fft=1024 is too small for input signal of length=581\n",
      "  return f(*args, **kwargs)\n",
      "D:\\Others\\Any Setup\\Anaconda\\lib\\site-packages\\librosa\\util\\decorators.py:88: UserWarning: n_fft=1024 is too small for input signal of length=721\n",
      "  return f(*args, **kwargs)\n",
      "D:\\Others\\Any Setup\\Anaconda\\lib\\site-packages\\librosa\\util\\decorators.py:88: UserWarning: n_fft=1024 is too small for input signal of length=713\n",
      "  return f(*args, **kwargs)\n",
      "D:\\Others\\Any Setup\\Anaconda\\lib\\site-packages\\librosa\\util\\decorators.py:88: UserWarning: n_fft=1024 is too small for input signal of length=691\n",
      "  return f(*args, **kwargs)\n",
      "D:\\Others\\Any Setup\\Anaconda\\lib\\site-packages\\librosa\\util\\decorators.py:88: UserWarning: n_fft=1024 is too small for input signal of length=588\n",
      "  return f(*args, **kwargs)\n",
      "D:\\Others\\Any Setup\\Anaconda\\lib\\site-packages\\librosa\\util\\decorators.py:88: UserWarning: n_fft=1024 is too small for input signal of length=684\n",
      "  return f(*args, **kwargs)\n",
      "D:\\Others\\Any Setup\\Anaconda\\lib\\site-packages\\librosa\\util\\decorators.py:88: UserWarning: n_fft=1024 is too small for input signal of length=743\n",
      "  return f(*args, **kwargs)\n",
      "D:\\Others\\Any Setup\\Anaconda\\lib\\site-packages\\librosa\\util\\decorators.py:88: UserWarning: n_fft=1024 is too small for input signal of length=853\n",
      "  return f(*args, **kwargs)\n",
      "D:\\Others\\Any Setup\\Anaconda\\lib\\site-packages\\librosa\\util\\decorators.py:88: UserWarning: n_fft=1024 is too small for input signal of length=780\n",
      "  return f(*args, **kwargs)\n"
     ]
    }
   ],
   "source": [
    "X = []\n",
    "y = []\n",
    "\n",
    "lstFolders = ['Open the door', 'Close the door']\n",
    "for lst in lstFolders:\n",
    "    listFiles = glob.glob(r\"C://Users/kamel/Downloads/Data/Training Data/*/{}/*/*\".format(lst))\n",
    "    for file in listFiles:\n",
    "        try:\n",
    "            data, sampleRate = librosa.load(file)\n",
    "            song = Song(data, sampleRate)\n",
    "            lst1 = [song.max_pitch, song.avg_pitch, song.var_pitch, song.max_lpc, song.avg_lpc, song.var_lpc, song.harmonic, \\\n",
    "                   song.harmonic_var, song.percussive, song.percussive_var, song.chromaAvg, song.chromaVar, \\\n",
    "                   song.chroma_stft_mean, song.chroma_stft_var, song.chroma_cqt_mean, song.chroma_cqt_var, \\\n",
    "                   song.Mfccs, song.Mfccs_var, song.mfcc_delta_mean, song.mfcc_delta_var, song.Contrast, song.Contrast_var, \\\n",
    "                   song.Rolloff, song.Rolloff_var, song.Zrate, song.Zrate_var, song.Cent, song.Cent_var, song.tonnetz_mean, \\\n",
    "                   song.tonnetz_var, song.poly_features_mean, song.poly_features_var, song.spec_bw_mean, song.spec_bw_var, \\\n",
    "                   song.rmse_mean, song.rmse_var, song.getFeature_chroma(), \\\n",
    "                   song.getFeature_mfcc(), song.getFeature_mels_spectorgram()]\n",
    "            \n",
    "            features = np.array(lst1)\n",
    "            X.append(features)\n",
    "            y.append(lstFolders.index(lst))\n",
    "        except:\n",
    "            continue"
   ]
  },
  {
   "cell_type": "code",
   "execution_count": 4,
   "id": "1ec40204",
   "metadata": {},
   "outputs": [],
   "source": [
    "df = pd.DataFrame(columns = [\n",
    "    'max_pitch', 'avg_pitch', 'var_pitch', 'max_lpc', 'avg_lpc', 'var_lpc', 'harmonic', 'harmonic_var', 'percussive', \\\n",
    "    'percussive_var', 'chromaAvg', 'chromaVar', 'chroma_stft_mean', 'chroma_stft_var', 'chroma_cqt_mean', 'chroma_cqt_var' \\\n",
    "    'Mfccs', 'Mfccs_var', 'mfcc_delta_mean', 'mfcc_delta_var', 'Contrast', 'Contrast_var', 'Rolloff', 'Rolloff_var', 'Zrate', \\\n",
    "    'Zrate_var', 'Cent', 'Cent_var', 'tonnetz_mean', 'tonnetz_var', 'poly_features_mean', 'poly_features_var', 'spec_bw_mean', \\\n",
    "    'spec_bw_var', 'rmse_mean', 'rmse_var', 'melspec_mean', 'melspec_var', 'chroma_hashcode', \\\n",
    "    'mfcc hashcode' 'mel hashcode'\n",
    "    ], data = X)"
   ]
  },
  {
   "cell_type": "code",
   "execution_count": 5,
   "id": "2585b10d",
   "metadata": {},
   "outputs": [],
   "source": [
    "df['y'] = y"
   ]
  },
  {
   "cell_type": "code",
   "execution_count": 6,
   "id": "bf7b697e",
   "metadata": {},
   "outputs": [],
   "source": [
    "X = np.array(X)\n",
    "y = np.array(y)"
   ]
  },
  {
   "cell_type": "code",
   "execution_count": 7,
   "id": "36a382e8",
   "metadata": {},
   "outputs": [],
   "source": [
    "X_train, X_test, y_train, y_test = train_test_split(X, y, test_size=0.2, random_state=42, shuffle=True)"
   ]
  },
  {
   "cell_type": "code",
   "execution_count": 8,
   "id": "1f7fdfdc",
   "metadata": {},
   "outputs": [],
   "source": [
    "scaler = StandardScaler()"
   ]
  },
  {
   "cell_type": "code",
   "execution_count": 9,
   "id": "7b104196",
   "metadata": {},
   "outputs": [],
   "source": [
    "X_train = scaler.fit_transform(X_train)\n",
    "X_test = scaler.transform(X_test)"
   ]
  },
  {
   "cell_type": "markdown",
   "id": "a4373c1a",
   "metadata": {},
   "source": [
    "## Model Training\n",
    "### SVM"
   ]
  },
  {
   "cell_type": "code",
   "execution_count": 10,
   "id": "1ea1d386",
   "metadata": {},
   "outputs": [
    {
     "data": {
      "text/plain": [
       "SVC(gamma='auto')"
      ]
     },
     "execution_count": 10,
     "metadata": {},
     "output_type": "execute_result"
    }
   ],
   "source": [
    "clf = SVC(gamma='auto')\n",
    "clf.fit(X_train, y_train)"
   ]
  },
  {
   "cell_type": "code",
   "execution_count": 11,
   "id": "36c986f7",
   "metadata": {},
   "outputs": [
    {
     "data": {
      "text/plain": [
       "0.95"
      ]
     },
     "execution_count": 11,
     "metadata": {},
     "output_type": "execute_result"
    }
   ],
   "source": [
    "clf.score(X_train, y_train)"
   ]
  },
  {
   "cell_type": "code",
   "execution_count": 12,
   "id": "fa534ea0",
   "metadata": {},
   "outputs": [
    {
     "data": {
      "text/plain": [
       "0.7777777777777778"
      ]
     },
     "execution_count": 12,
     "metadata": {},
     "output_type": "execute_result"
    }
   ],
   "source": [
    "clf.score(X_test, y_test)"
   ]
  },
  {
   "cell_type": "markdown",
   "id": "307ec6bf",
   "metadata": {},
   "source": [
    "### Random Forest"
   ]
  },
  {
   "cell_type": "code",
   "execution_count": 13,
   "id": "d79815e9",
   "metadata": {},
   "outputs": [
    {
     "data": {
      "text/plain": [
       "RandomForestClassifier(max_depth=5)"
      ]
     },
     "execution_count": 13,
     "metadata": {},
     "output_type": "execute_result"
    }
   ],
   "source": [
    "r_clf = RandomForestClassifier(max_depth=5)\n",
    "r_clf.fit(X_train, y_train)"
   ]
  },
  {
   "cell_type": "code",
   "execution_count": 14,
   "id": "55585cbc",
   "metadata": {},
   "outputs": [
    {
     "data": {
      "text/plain": [
       "1.0"
      ]
     },
     "execution_count": 14,
     "metadata": {},
     "output_type": "execute_result"
    }
   ],
   "source": [
    "r_clf.score(X_train, y_train)"
   ]
  },
  {
   "cell_type": "code",
   "execution_count": 15,
   "id": "a501a8e1",
   "metadata": {},
   "outputs": [
    {
     "data": {
      "text/plain": [
       "0.8444444444444444"
      ]
     },
     "execution_count": 15,
     "metadata": {},
     "output_type": "execute_result"
    }
   ],
   "source": [
    "r_clf.score(X_test, y_test)"
   ]
  },
  {
   "cell_type": "markdown",
   "id": "8d098eb1",
   "metadata": {},
   "source": [
    "## Saving Data to CSV"
   ]
  },
  {
   "cell_type": "code",
   "execution_count": 16,
   "id": "1e149a97",
   "metadata": {},
   "outputs": [],
   "source": [
    "df.to_csv(\"data.csv\")"
   ]
  },
  {
   "cell_type": "code",
   "execution_count": null,
   "id": "1f4ccb5f",
   "metadata": {},
   "outputs": [],
   "source": []
  }
 ],
 "metadata": {
  "kernelspec": {
   "display_name": "Python 3 (ipykernel)",
   "language": "python",
   "name": "python3"
  },
  "language_info": {
   "codemirror_mode": {
    "name": "ipython",
    "version": 3
   },
   "file_extension": ".py",
   "mimetype": "text/x-python",
   "name": "python",
   "nbconvert_exporter": "python",
   "pygments_lexer": "ipython3",
   "version": "3.9.12"
  }
 },
 "nbformat": 4,
 "nbformat_minor": 5
}
